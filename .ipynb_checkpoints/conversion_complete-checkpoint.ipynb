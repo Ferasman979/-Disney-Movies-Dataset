{
 "cells": [
  {
   "cell_type": "code",
   "execution_count": null,
   "id": "de2ff641",
   "metadata": {},
   "outputs": [],
   "source": [
    "import re\n",
    "\n",
    "amounts = r\"thousand|million|billion\"\n",
    "number = r\"\\d+(,\\d{3})*\\.*\\d*\"\n",
    "standard = fr\"\\${number}(-|\\sto\\s)?({number})?\\s({amounts})\"\n",
    "\n",
    "def word_to_value(word):\n",
    "\tvalue_dict = {\"thousand\": 1000, \"million\": 1000000, \"billion\": 1000000000}\n",
    "\treturn value_dict.get(word.lower(), 1)\n",
    "\n",
    "def parse_word_syntax(string):\n",
    "\tstripped_string = string.replace(\",\", \"\")\n",
    "\tvalue = float(re.search(number, stripped_string).group())\n",
    "\tmodifier = word_to_value(re.search(amounts, string, flags=re.I).group())\n",
    "\treturn value*modifier\n",
    "\n",
    "def parse_value_syntax(string):\n",
    "\tstripped_string = string.replace(\",\", \"\")\n",
    "\treturn float(re.search(number, stripped_string).group())\n",
    "\n",
    "def money_conversion(money):\n",
    "\tif type(money) == list:\n",
    "\t\tmoney = money[0]\n",
    "\n",
    "\tword_syntax = re.search(standard, money, flags=re.I)\n",
    "\tvalue_syntax = re.search(fr\"\\${number}\", money)\n",
    "\n",
    "\tif word_syntax:\n",
    "\t\treturn parse_word_syntax(word_syntax.group())\n",
    "\telif value_syntax:\n",
    "\t\treturn parse_value_syntax(value_syntax.group())\n",
    "\telse:\n",
    "\t\treturn None"
   ]
  }
 ],
 "metadata": {
  "kernelspec": {
   "display_name": "Python 3 (ipykernel)",
   "language": "python",
   "name": "python3"
  },
  "language_info": {
   "codemirror_mode": {
    "name": "ipython",
    "version": 3
   },
   "file_extension": ".py",
   "mimetype": "text/x-python",
   "name": "python",
   "nbconvert_exporter": "python",
   "pygments_lexer": "ipython3",
   "version": "3.10.9"
  }
 },
 "nbformat": 4,
 "nbformat_minor": 5
}
